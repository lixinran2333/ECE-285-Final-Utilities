{
 "cells": [
  {
   "cell_type": "code",
   "execution_count": 2,
   "metadata": {},
   "outputs": [
    {
     "name": "stderr",
     "output_type": "stream",
     "text": [
      "/opt/conda/lib/python3.6/site-packages/h5py/__init__.py:36: FutureWarning: Conversion of the second argument of issubdtype from `float` to `np.floating` is deprecated. In future, it will be treated as `np.float64 == np.dtype(float).type`.\n",
      "  from ._conv import register_converters as _register_converters\n",
      "Using TensorFlow backend.\n",
      "/opt/conda/lib/python3.6/importlib/_bootstrap.py:219: RuntimeWarning: compiletime version 3.5 of module 'tensorflow.python.framework.fast_tensor_util' does not match runtime version 3.6\n",
      "  return f(*args, **kwds)\n"
     ]
    }
   ],
   "source": [
    "from keras.applications.resnet50 import ResNet50\n",
    "from keras.preprocessing import image\n",
    "from keras.applications.resnet50 import preprocess_input, decode_predictions\n",
    "import numpy as np\n",
    "\n",
    "KFRAMES = 5\n",
    "TOPPRED = 3\n",
    "SAMPLE = ('Random Sampling', 'Head Sampling', 'Proportion Sampling')\n",
    "SAMPLEINDEX = 0"
   ]
  },
  {
   "cell_type": "code",
   "execution_count": 3,
   "metadata": {},
   "outputs": [],
   "source": [
    "model = ResNet50(weights='imagenet')"
   ]
  },
  {
   "cell_type": "markdown",
   "metadata": {},
   "source": [
    "## 2. Use loaded model to predict (Sample)"
   ]
  },
  {
   "cell_type": "code",
   "execution_count": 4,
   "metadata": {},
   "outputs": [],
   "source": [
    "# img_path = 'image19.jpg'\n",
    "# img = image.load_img(img_path, target_size=(224, 224))\n",
    "# x = image.img_to_array(img)\n",
    "# x = np.expand_dims(x, axis=0)\n",
    "# x = preprocess_input(x)\n",
    "\n",
    "# preds = model.predict(x)\n",
    "# # decode the results into a list of tuples (class, description, probability)\n",
    "# # (one such list for each sample in the batch)\n",
    "# print('Predicted:', decode_predictions(preds, top=3)[0])"
   ]
  },
  {
   "cell_type": "code",
   "execution_count": 5,
   "metadata": {},
   "outputs": [],
   "source": [
    "# res = decode_predictions(preds, top=3)[0]\n",
    "# print(res[0][1])\n",
    "    \n",
    "# # predset = dict([(res[0][1],res[0][2]), (res[1][1],res[1][2]), (res[2][1],res[2][2])])\n",
    "# # predset['null'] += 0.67\n",
    "# # predset"
   ]
  },
  {
   "cell_type": "markdown",
   "metadata": {},
   "source": [
    "## 3. Play around with directory to get number of frames inside the folder"
   ]
  },
  {
   "cell_type": "code",
   "execution_count": 6,
   "metadata": {},
   "outputs": [
    {
     "name": "stdout",
     "output_type": "stream",
     "text": [
      "1075\n"
     ]
    }
   ],
   "source": [
    "import os, os.path\n",
    "\n",
    "# simple version for working with CWD\n",
    "# print (len([name for name in os.listdir('./frames/') if os.path.isfile(name)]))\n",
    "\n",
    "DIR = '/datasets/ee285s-public/YoutubeFrames/Bicycle1/frames'\n",
    "print (len([name for name in os.listdir(DIR) if os.path.isfile(os.path.join(DIR, name))]))"
   ]
  },
  {
   "cell_type": "markdown",
   "metadata": {},
   "source": [
    "## 4. Extract 5 frames for prediction (Random Selection, First Selection, or Quantile Selection)"
   ]
  },
  {
   "cell_type": "code",
   "execution_count": 13,
   "metadata": {},
   "outputs": [],
   "source": [
    "import random\n",
    "\n",
    "def getRandomImagesIndex(path, number):\n",
    "    IMAGE_PATHS = []\n",
    "    for file in os.listdir(path):\n",
    "        if file.endswith(\".jpg\"):\n",
    "            IMAGE_PATHS.append(os.path.join(path, file))\n",
    "    \n",
    "    totalImage = len(IMAGE_PATHS)\n",
    "    random_index = random.sample(range(totalImage), number)\n",
    "    return IMAGE_PATHS, random_index, 0\n",
    "\n",
    "def getFirstImagesIndex(path, number):\n",
    "    IMAGE_PATHS = []\n",
    "    for file in os.listdir(path):\n",
    "        if file.endswith(\".jpg\"):\n",
    "            IMAGE_PATHS.append(os.path.join(path, file))\n",
    "    \n",
    "    totalImage = len(IMAGE_PATHS)\n",
    "    random_index = np.arange(0,number)\n",
    "    SAMPLEINDEX = 1\n",
    "    return IMAGE_PATHS, random_index, 1\n",
    "\n",
    "def getPropImagesIndex(path, number):\n",
    "    IMAGE_PATHS = []\n",
    "    for file in os.listdir(path):\n",
    "        if file.endswith(\".jpg\"):\n",
    "            IMAGE_PATHS.append(os.path.join(path, file))\n",
    "    \n",
    "    totalImage = len(IMAGE_PATHS)\n",
    "    step = int(totalImage / number - 1)\n",
    "    random_index = np.zeros(number)\n",
    "    for i in range(number):\n",
    "        random_index[i] = int(step * (i+1))\n",
    "    random_index = random_index.astype(int)\n",
    "    SAMPLEINDEX = 2\n",
    "    return IMAGE_PATHS, random_index, 2"
   ]
  },
  {
   "cell_type": "code",
   "execution_count": 14,
   "metadata": {},
   "outputs": [
    {
     "name": "stdout",
     "output_type": "stream",
     "text": [
      "[ 214  428  642  856 1070]\n",
      "2\n"
     ]
    }
   ],
   "source": [
    "impath, imindex, SAMPLEINDEX = getPropImagesIndex(DIR, 5)\n",
    "print(imindex)\n",
    "print(SAMPLEINDEX)\n",
    "\n",
    "imgall = []\n",
    "predset = dict()\n",
    "\n",
    "for index in imindex:\n",
    "    tempimg = image.load_img(impath[index], target_size=(224, 224))\n",
    "    tempx = image.img_to_array(tempimg)\n",
    "    tempx = np.expand_dims(tempx, axis=0)\n",
    "    tempx = preprocess_input(tempx)\n",
    "    \n",
    "    temppreds = model.predict(tempx)\n",
    "    tempres = decode_predictions(temppreds, top=3)[0]\n",
    "    \n",
    "    for i in range(3):\n",
    "        if tempres[i][1] in predset:\n",
    "            predset[tempres[i][1]] += tempres[i][2]\n",
    "        else:\n",
    "            predset[tempres[i][1]] = tempres[i][2]\n",
    "            \n"
   ]
  },
  {
   "cell_type": "markdown",
   "metadata": {},
   "source": [
    "## 5. Plot the final result"
   ]
  },
  {
   "cell_type": "code",
   "execution_count": 15,
   "metadata": {},
   "outputs": [
    {
     "name": "stdout",
     "output_type": "stream",
     "text": [
      "2\n"
     ]
    },
    {
     "data": {
      "image/png": "[encoded data removed]",
      "text/plain": [
       "<Figure size 432x288 with 1 Axes>"
      ]
     },
     "metadata": {},
     "output_type": "display_data"
    },
    {
     "name": "stdout",
     "output_type": "stream",
     "text": [
      "Final Prediction of the video label:  mountain_bike\n"
     ]
    }
   ],
   "source": [
    "import matplotlib.pyplot as plt\n",
    "\n",
    "\n",
    "print(SAMPLEINDEX)\n",
    "fig, ax = plt.subplots()\n",
    "fig.autofmt_xdate()\n",
    "plt.bar(predset.keys(), predset.values(), color='r', width = 0.4)\n",
    "plt.xlabel('Possible Classes')\n",
    "plt.ylabel('Accumulative Probability (can be > 1)')\n",
    "plt.title(SAMPLE[SAMPLEINDEX] + ' with '+ str(KFRAMES) + ' frames' + ' with top ' + str(TOPPRED) + ' predictions') \n",
    "#          ' with frame number: ', KFRAMES)\n",
    "plt.show()\n",
    "\n",
    "sortpred = sorted(predset.items(), key=lambda x: x[1])\n",
    "\n",
    "finallabel = sortpred[-1][0]\n",
    "\n",
    "print('Final Prediction of the video label: ',finallabel)"
   ]
  }
 ],
 "metadata": {
  "kernelspec": {
   "display_name": "Python 3",
   "language": "python",
   "name": "python3"
  },
  "language_info": {
   "codemirror_mode": {
    "name": "ipython",
    "version": 3
   },
   "file_extension": ".py",
   "mimetype": "text/x-python",
   "name": "python",
   "nbconvert_exporter": "python",
   "pygments_lexer": "ipython3",
   "version": "3.6.4"
  }
 },
 "nbformat": 4,
 "nbformat_minor": 2
}
